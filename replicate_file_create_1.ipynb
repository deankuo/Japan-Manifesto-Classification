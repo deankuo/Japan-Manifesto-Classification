{
 "cells": [
  {
   "cell_type": "markdown",
   "metadata": {},
   "source": [
    "### 創建需要的檔案"
   ]
  },
  {
   "cell_type": "code",
   "execution_count": 23,
   "metadata": {},
   "outputs": [],
   "source": [
    "# import packages\n",
    "import os # files and folders directory\n",
    "import pandas as pd\n",
    "import numpy as np\n",
    "import matplotlib.pyplot as plt\n",
    "import pykakasi # transfer hiragana and katakana to English\n",
    "import re"
   ]
  },
  {
   "cell_type": "code",
   "execution_count": 24,
   "metadata": {},
   "outputs": [
    {
     "name": "stdout",
     "output_type": "stream",
     "text": [
      "Aichi_愛知県第１区ｲﾏｴﾀﾞﾉﾘｵ今枝敬雄.txt\n"
     ]
    }
   ],
   "source": [
    "# Test cases\n",
    "katakana_chart = \"ァアィイゥウェエォオカガキギクグケゲコゴサザシジスズセゼソゾタダチヂッツヅテデトドナニヌネノハバパヒビピフブプヘベペホボポマミムメモャヤュユョヨラリルレロヮワヰヱヲンヴヵヶヽヾ\"\n",
    "file = \"Aichi_1986愛知県第１区ｲﾏｴﾀﾞﾉﾘｵ今枝敬雄.txt\"\n",
    "def char_is_katakana(c) -> bool:\n",
    "    return u'\\30A0' <= c <= u'\\30FF'\n",
    "\n",
    "new_file = \"\"\n",
    "kks = pykakasi.kakasi()\n",
    "result = kks.convert(file)\n",
    "for word in file:\n",
    "    if char_is_katakana(word):\n",
    "        continue\n",
    "    else:\n",
    "        new_file += word\n",
    "new_file = re.sub(r'\\d{4}', '', new_file)\n",
    "print(new_file)\n"
   ]
  },
  {
   "cell_type": "code",
   "execution_count": 35,
   "metadata": {},
   "outputs": [
    {
     "name": "stdout",
     "output_type": "stream",
     "text": [
      "Successfully created the directory /Users/deankuo/Desktop/python/dessertation_replicate/txt_version/1986\n",
      "Successfully created the directory /Users/deankuo/Desktop/python/dessertation_replicate/txt_version/1990\n",
      "Successfully created the directory /Users/deankuo/Desktop/python/dessertation_replicate/txt_version/1993\n",
      "Successfully created the directory /Users/deankuo/Desktop/python/dessertation_replicate/txt_version/1996\n",
      "Successfully created the directory /Users/deankuo/Desktop/python/dessertation_replicate/txt_version/2000\n",
      "Successfully created the directory /Users/deankuo/Desktop/python/dessertation_replicate/txt_version/2003\n",
      "Successfully created the directory /Users/deankuo/Desktop/python/dessertation_replicate/txt_version/2005\n",
      "Successfully created the directory /Users/deankuo/Desktop/python/dessertation_replicate/txt_version/2009\n",
      "Successfully created the directory /Users/deankuo/Desktop/python/dessertation_replicate/txt_version/2012\n"
     ]
    }
   ],
   "source": [
    "### 清理原始檔案，將每一年度每一份選舉公報單獨做成一份txt檔\n",
    "# 設定輸出資料夾\n",
    "years = [1986, 1990, 1993, 1996, 2000, 2003, 2005, 2009, 2012]\n",
    "access_right = 0o755\n",
    "\n",
    "# 區分年度\n",
    "for year in years:\n",
    "    output_folder = f'/Users/deankuo/Desktop/python/dessertation_replicate/txt_version/{year}'\n",
    "    # 建立年份資料夾\n",
    "    try:\n",
    "        os.mkdir(output_folder, access_right)\n",
    "    except OSError:\n",
    "        print (f\"Creation of the directory {output_folder} failed\")\n",
    "    else:\n",
    "        print (f\"Successfully created the directory {output_folder}\")\n",
    "        \n",
    "    # Manifestos資料夾的位置\n",
    "    folder_path = f'/Users/deankuo/Desktop/python/dessertation_replicate/{year}'\n",
    "    \n",
    "    # Sift halfwidth　カタカナ from file name\n",
    "    def is_halfwidth_katakana(char):\n",
    "        unicode_value = ord(char)\n",
    "        return 0xff65 <= unicode_value <= 0xff9f\n",
    "    \n",
    "    # Garbage word\n",
    "    def is_garbage_word(char):\n",
    "        garbage_word = ['＃', 'X', '.']\n",
    "        return True if char in garbage_word else False\n",
    "    \n",
    "\n",
    "    # 使用 os.walk() iterate整個資料夾中的檔案\n",
    "    for root, dirs, files in os.walk(folder_path):\n",
    "        for file in sorted(files):\n",
    "            # 跳過這個隱藏資料夾（不確定是否只有mac上會有）\n",
    "            if file == \".DS_Store\":\n",
    "                continue\n",
    "            else:\n",
    "                # Set the ku name\n",
    "                ku = \"\"\n",
    "                for word in file:\n",
    "                    if word.isnumeric():\n",
    "                        break\n",
    "                    else:\n",
    "                        ku += word\n",
    "                # Some of the txt file code \"Aichi\" as \"aiti\"\n",
    "                if ku == \"aiti\":\n",
    "                    ku = \"Aichi\"\n",
    "                else:\n",
    "                    # Upper the first character\n",
    "                    ku = ku[0].upper() + ku[1:]\n",
    "                \n",
    "                # 使用 with open() 來讀取檔案\n",
    "                with open(f'/Users/deankuo/Desktop/python/dessertation_replicate/{year}/{file}', 'r') as f:\n",
    "                    # 設定檔名\n",
    "                    filename = None\n",
    "                    # 設定內容\n",
    "                    content = []\n",
    "                    for line in f:\n",
    "                        if line.startswith('＃') or line.startswith(\"X.\"): # 應該是encoding問題\n",
    "                            # 如果檔名已經設定過了就將內容寫入檔案\n",
    "                            if filename is not None:\n",
    "                                with open(os.path.join(output_folder, filename), 'w') as output_file:\n",
    "                                    for item in content:\n",
    "                                        output_file.write(item)\n",
    "                            # Remove garbage words from file name line\n",
    "                            if line.startswith('＃'):\n",
    "                                temp_filename = \"\"\n",
    "                                if '区' in line:\n",
    "                                    for word in line:\n",
    "                                        if is_halfwidth_katakana(word) or is_garbage_word(word):\n",
    "                                            continue\n",
    "                                        elif word == '区':\n",
    "                                            temp_filename += '区_'\n",
    "                                        else:\n",
    "                                            temp_filename += word\n",
    "                                else:\n",
    "                                    for word in line:\n",
    "                                        if is_halfwidth_katakana(word) or is_garbage_word(word):\n",
    "                                            continue\n",
    "                                        elif word == '県':\n",
    "                                            temp_filename += '県_'\n",
    "                                        else:\n",
    "                                            temp_filename += word\n",
    "                                temp_filename = temp_filename.strip()\n",
    "                                temp_filename = re.sub(r'\\d{4}', '', temp_filename)\n",
    "                                filename = str(year) + \"_\" + ku + \"_\" + temp_filename + '.txt'\n",
    "                            # 如果開頭是X.的檔名\n",
    "                            else:\n",
    "                                temp_filename = \"\"\n",
    "                                if '区' in line:\n",
    "                                    for word in line:\n",
    "                                        if is_halfwidth_katakana(word) or is_garbage_word(word):\n",
    "                                            continue\n",
    "                                        elif word == '区':\n",
    "                                            temp_filename += '区_'\n",
    "                                        else:\n",
    "                                            temp_filename += word\n",
    "                                else:\n",
    "                                    for word in line:\n",
    "                                        if is_halfwidth_katakana(word) or is_garbage_word(word):\n",
    "                                            continue\n",
    "                                        elif word == '県':\n",
    "                                            temp_filename += '県_'\n",
    "                                        else:\n",
    "                                            temp_filename += word\n",
    "                                temp_filename = temp_filename.strip()\n",
    "                                temp_filename = re.sub(r'\\d{4}', '', temp_filename)\n",
    "                                filename = str(year) + \"_\" + ku + \"_\" + temp_filename + '.txt'\n",
    "                            # 清空內容\n",
    "                            content = []\n",
    "                        else:\n",
    "                            # 加入內容\n",
    "                            content.append(line)\n",
    "                    # 將最後一個檔案寫入\n",
    "                    with open(os.path.join(output_folder, filename), 'w') as output_file:\n",
    "                        for item in content:\n",
    "                            output_file.write(item)"
   ]
  },
  {
   "cell_type": "code",
   "execution_count": 33,
   "metadata": {},
   "outputs": [
    {
     "name": "stdout",
     "output_type": "stream",
     "text": [
      "1986 manifesto files number:808\n",
      "1990 manifesto files number:801\n",
      "1993 manifesto files number:821\n",
      "1996 manifesto files number:1130\n",
      "2000 manifesto files number:1099\n",
      "2003 manifesto files number:1005\n",
      "2005 manifesto files number:988\n",
      "2009 manifesto files number:819\n",
      "2012 manifesto files number:1242\n",
      "The total manifesto number (from 1986 to 2009): 7471\n"
     ]
    }
   ],
   "source": [
    "# 計算一共分出多少檔案\n",
    "years = [1986, 1990, 1993, 1996, 2000, 2003, 2005, 2009, 2012]\n",
    "sum = 0\n",
    "\n",
    "for year in years:\n",
    "    dir_path = f\"/Users/deankuo/Desktop/python/dessertation_replicate/txt_version/{year}\"\n",
    "    globals()[f\"count_{year}\"] = 0\n",
    "    # Iterate directory\n",
    "    for path in os.listdir(dir_path):\n",
    "        # check if current path is a file\n",
    "        if os.path.isfile(os.path.join(dir_path, path)):\n",
    "            globals()[f\"count_{year}\"] += 1\n",
    "    sum +=  globals()[f\"count_{year}\"]\n",
    "    print(f'{year} manifesto files number:' + str(globals()[f\"count_{year}\"]))\n",
    "print(f\"The total manifesto number (from 1986 to 2009): {sum - 1242}\")\n"
   ]
  },
  {
   "cell_type": "markdown",
   "metadata": {},
   "source": [
    "## 尚未排除掉不具參考性的候選人（沒有主要政黨背書 or 得票少於10000） \n",
    "\n",
    "1986 files: 808 > 800  \n",
    "1990 files: 801 < 854  \n",
    "1993 files: 821 < 866  \n",
    "1996 files: 1130 > 1126  \n",
    "2000 files: 1099 < 1070  \n",
    "2003 files: 1005 > 994  \n",
    "2005 files: 987 > 966  \n",
    "2009 files: 819 < 821  \n",
    "2012 files: 1242 ? (沒有資料)  \n",
    "後面的檔案數是從Catalinac, Amy, 2017, \"Replication Data for: Positioning under Alternative Electoral Systems\", https://doi.org/10.7910/DVN/PENDX4, Harvard Dataverse 中的TDM_new.csv檔案計算出來，總共有7497個選舉公報（和書上的一樣)  "
   ]
  },
  {
   "cell_type": "code",
   "execution_count": 34,
   "metadata": {},
   "outputs": [
    {
     "name": "stdout",
     "output_type": "stream",
     "text": [
      "1986: 808\n",
      "1990: 801\n",
      "1993: 821\n",
      "1996: 1130\n",
      "2000: 1099\n",
      "2003: 1005\n",
      "2005: 1001\n",
      "2009: 819\n",
      "2012: 1242\n",
      "The sum of manifestos is (from 1986 to 2009): 7484\n"
     ]
    }
   ],
   "source": [
    "## 確認是否都有分乾淨\n",
    "year = [1986, 1990, 1993, 1996, 2000, 2003, 2005, 2009, 2012]\n",
    "# Manifestos資料夾的位置\n",
    "folder_path = '/Users/deankuo/Desktop/python/dessertation_replicate/'\n",
    "sum = 0\n",
    "\n",
    "# 使用 os.walk() 遍歷整個資料夾中的檔案\n",
    "for y in year:\n",
    "    manifesto = 0\n",
    "    for root, dirs, files in os.walk(f'{folder_path}{y}'):\n",
    "        for file in sorted(files):\n",
    "            with open(f\"{folder_path}{y}/{file}\", 'r') as f:\n",
    "                for line in f:\n",
    "                    if ('＃' in line) and (line[0] == '＃'):\n",
    "                        manifesto += 1\n",
    "                    elif ('X.' in line) and (line[0:2] == 'X.'):\n",
    "                        manifesto += 1\n",
    "                    else:\n",
    "                        continue\n",
    "    sum += manifesto\n",
    "    print(f\"{y}: {manifesto}\")\n",
    "print(f\"The sum of manifestos is (from 1986 to 2009): {sum - 1242}\")"
   ]
  }
 ],
 "metadata": {
  "kernelspec": {
   "display_name": "Python 3.8.8 ('base')",
   "language": "python",
   "name": "python3"
  },
  "language_info": {
   "codemirror_mode": {
    "name": "ipython",
    "version": 3
   },
   "file_extension": ".py",
   "mimetype": "text/x-python",
   "name": "python",
   "nbconvert_exporter": "python",
   "pygments_lexer": "ipython3",
   "version": "3.8.8"
  },
  "orig_nbformat": 4,
  "vscode": {
   "interpreter": {
    "hash": "f4d4b5d2a348c65ee752921223496a7b1a50b9bf30a9615b278eac450946b5dd"
   }
  }
 },
 "nbformat": 4,
 "nbformat_minor": 2
}
